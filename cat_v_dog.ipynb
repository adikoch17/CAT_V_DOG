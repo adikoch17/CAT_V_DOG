{
 "cells": [
  {
   "cell_type": "code",
   "execution_count": 1,
   "id": "641609bb",
   "metadata": {},
   "outputs": [],
   "source": [
    "import numpy as np\n",
    "import matplotlib.pyplot as plt\n",
    "import os\n",
    "import cv2\n",
    "from tqdm import tqdm"
   ]
  },
  {
   "cell_type": "code",
   "execution_count": 2,
   "id": "5314a14f",
   "metadata": {},
   "outputs": [
    {
     "name": "stderr",
     "output_type": "stream",
     "text": [
      "  0%|▎                                                                             | 48/12500 [00:00<00:26, 476.52it/s]"
     ]
    },
    {
     "name": "stdout",
     "output_type": "stream",
     "text": [
      "C:\\Users\\adity\\Desktop\\DS\\CAT _V_DOG\\PetImages\\Dog\n"
     ]
    },
    {
     "name": "stderr",
     "output_type": "stream",
     "text": [
      "100%|███████████████████████████████████████████████████████████████████████████| 12500/12500 [00:25<00:00, 482.92it/s]\n",
      "  0%|▎                                                                             | 49/12500 [00:00<00:25, 489.97it/s]"
     ]
    },
    {
     "name": "stdout",
     "output_type": "stream",
     "text": [
      "C:\\Users\\adity\\Desktop\\DS\\CAT _V_DOG\\PetImages\\Cat\n"
     ]
    },
    {
     "name": "stderr",
     "output_type": "stream",
     "text": [
      "100%|███████████████████████████████████████████████████████████████████████████| 12500/12500 [00:17<00:00, 706.78it/s]\n"
     ]
    }
   ],
   "source": [
    "main_dir=\"C:\\\\Users\\\\adity\\\\Desktop\\\\DS\\\\CAT _V_DOG\\\\PetImages\"\n",
    "categories = [\"Dog\",\"Cat\"]\n",
    "data = []\n",
    "\n",
    "for i in categories:\n",
    "    path = os.path.join(main_dir,i)\n",
    "    print(path)\n",
    "    for img in tqdm(os.listdir(path)):\n",
    "        try:\n",
    "            img_array = cv2.imread(os.path.join(path,img),cv2.IMREAD_GRAYSCALE)\n",
    "            new_array = cv2.resize(img_array,(50,50))\n",
    "            data.append([new_array, categories.index(i)])\n",
    "        except:\n",
    "            pass"
   ]
  },
  {
   "cell_type": "code",
   "execution_count": 3,
   "id": "09bcc083",
   "metadata": {},
   "outputs": [
    {
     "name": "stdout",
     "output_type": "stream",
     "text": [
      "24946\n"
     ]
    }
   ],
   "source": [
    "print(len(data))"
   ]
  },
  {
   "cell_type": "code",
   "execution_count": 4,
   "id": "5e873d6b",
   "metadata": {},
   "outputs": [],
   "source": [
    "import random\n",
    "\n",
    "random.shuffle(data)"
   ]
  },
  {
   "cell_type": "code",
   "execution_count": null,
   "id": "3d476885",
   "metadata": {},
   "outputs": [],
   "source": [
    "import pickle"
   ]
  },
  {
   "cell_type": "code",
   "execution_count": null,
   "id": "2ae852a6",
   "metadata": {},
   "outputs": [],
   "source": [
    "# pickle_out = open(\"catvdog_data.pickle\",\"wb\")\n",
    "# pickle.dump(data, pickle_out)\n",
    "# pickle_out.close()"
   ]
  },
  {
   "cell_type": "code",
   "execution_count": 5,
   "id": "fcac9fc9",
   "metadata": {},
   "outputs": [],
   "source": [
    "# import os\n",
    "# os.environ[\"CUDA_VISIBLE_DEVICES\"]=\"-1\" \n",
    "import tensorflow as tf\n",
    "from tensorflow.keras.models import Sequential\n",
    "from tensorflow.keras.layers import Dense, Dropout, Activation, Flatten, Conv2D, MaxPooling2D\n"
   ]
  },
  {
   "cell_type": "code",
   "execution_count": 6,
   "id": "dd56745b",
   "metadata": {},
   "outputs": [],
   "source": [
    "X = [x for x,y in data]\n",
    "y = [y for x,y in data]"
   ]
  },
  {
   "cell_type": "code",
   "execution_count": 7,
   "id": "e60e8619",
   "metadata": {},
   "outputs": [],
   "source": [
    "X=np.array(X).reshape(-1,50,50,1)"
   ]
  },
  {
   "cell_type": "code",
   "execution_count": 8,
   "id": "00204ab1",
   "metadata": {},
   "outputs": [
    {
     "data": {
      "text/plain": [
       "(24946, 50, 50, 1)"
      ]
     },
     "execution_count": 8,
     "metadata": {},
     "output_type": "execute_result"
    }
   ],
   "source": [
    "X.shape"
   ]
  },
  {
   "cell_type": "code",
   "execution_count": 9,
   "id": "b2c293b8",
   "metadata": {},
   "outputs": [],
   "source": [
    "X=X/255"
   ]
  },
  {
   "cell_type": "code",
   "execution_count": 10,
   "id": "7d630811",
   "metadata": {},
   "outputs": [
    {
     "data": {
      "text/plain": [
       "24946"
      ]
     },
     "execution_count": 10,
     "metadata": {},
     "output_type": "execute_result"
    }
   ],
   "source": [
    "len(X)"
   ]
  },
  {
   "cell_type": "code",
   "execution_count": 11,
   "id": "063c9df4",
   "metadata": {},
   "outputs": [],
   "source": [
    "y = np.array(y)"
   ]
  },
  {
   "cell_type": "code",
   "execution_count": 12,
   "id": "69698891",
   "metadata": {},
   "outputs": [
    {
     "data": {
      "text/plain": [
       "array([[1],\n",
       "       [0],\n",
       "       [0],\n",
       "       ...,\n",
       "       [1],\n",
       "       [0],\n",
       "       [1]])"
      ]
     },
     "execution_count": 12,
     "metadata": {},
     "output_type": "execute_result"
    }
   ],
   "source": [
    "y.reshape(-1,1)"
   ]
  },
  {
   "cell_type": "code",
   "execution_count": 13,
   "id": "0e88553c",
   "metadata": {},
   "outputs": [],
   "source": [
    "model = Sequential()\n",
    "\n",
    "model.add(Conv2D(64,(3,3),input_shape=X.shape[1:],activation='relu', padding='same'))\n",
    "model.add(MaxPooling2D(pool_size=(2,2)))\n",
    "\n",
    "model.add(Conv2D(64,(3,3),input_shape=X.shape[1:],activation='relu', padding='same'))\n",
    "model.add(MaxPooling2D(pool_size=(2,2)))\n",
    "\n",
    "model.add(Conv2D(64,(3,3),input_shape=X.shape[1:],activation='relu', padding='same'))\n",
    "model.add(MaxPooling2D(pool_size=(2,2)))\n",
    "\n",
    "model.add(Conv2D(64,(3,3),input_shape=X.shape[1:],activation='relu', padding='same'))\n",
    "model.add(MaxPooling2D(pool_size=(2,2)))\n",
    "\n",
    "model.add(Conv2D(64,(3,3),input_shape=X.shape[1:],activation='relu', padding='same'))\n",
    "model.add(MaxPooling2D(pool_size=(2,2)))\n",
    "\n",
    "model.add(Flatten())\n",
    "\n",
    "model.add(Dense(64,activation='relu'))\n",
    "\n",
    "model.add(Dense(1,activation='sigmoid'))\n",
    "\n",
    "model.compile(loss='binary_crossentropy',optimizer='adam',metrics=['accuracy'])"
   ]
  },
  {
   "cell_type": "code",
   "execution_count": 15,
   "id": "13e4ab0b",
   "metadata": {},
   "outputs": [
    {
     "name": "stdout",
     "output_type": "stream",
     "text": [
      "Epoch 1/5\n",
      "702/702 [==============================] - 10s 13ms/step - loss: 0.3949 - accuracy: 0.8225 - val_loss: 0.4232 - val_accuracy: 0.8096\n",
      "Epoch 2/5\n",
      "702/702 [==============================] - 9s 13ms/step - loss: 0.3412 - accuracy: 0.8483 - val_loss: 0.4209 - val_accuracy: 0.8148\n",
      "Epoch 3/5\n",
      "702/702 [==============================] - 9s 13ms/step - loss: 0.3066 - accuracy: 0.8659 - val_loss: 0.3950 - val_accuracy: 0.8208\n",
      "Epoch 4/5\n",
      "702/702 [==============================] - 9s 13ms/step - loss: 0.2716 - accuracy: 0.8836 - val_loss: 0.3725 - val_accuracy: 0.8309\n",
      "Epoch 5/5\n",
      "702/702 [==============================] - 10s 15ms/step - loss: 0.2371 - accuracy: 0.8986 - val_loss: 0.3790 - val_accuracy: 0.8377\n"
     ]
    }
   ],
   "source": [
    "history = model.fit(X,y,batch_size=32,epochs=5,validation_split=0.1)"
   ]
  },
  {
   "cell_type": "code",
   "execution_count": 16,
   "id": "786ab743",
   "metadata": {},
   "outputs": [],
   "source": [
    "model.save(\"dog_v_cat_model.h5\")"
   ]
  },
  {
   "cell_type": "code",
   "execution_count": 18,
   "id": "295a9044",
   "metadata": {},
   "outputs": [],
   "source": [
    "sample = X[0]"
   ]
  },
  {
   "cell_type": "code",
   "execution_count": 28,
   "id": "473743ff",
   "metadata": {},
   "outputs": [
    {
     "data": {
      "text/plain": [
       "array([[[0.90588235],\n",
       "        [0.90980392],\n",
       "        [0.90980392],\n",
       "        ...,\n",
       "        [0.        ],\n",
       "        [0.00784314],\n",
       "        [0.01176471]],\n",
       "\n",
       "       [[0.90980392],\n",
       "        [0.90980392],\n",
       "        [0.91372549],\n",
       "        ...,\n",
       "        [0.01568627],\n",
       "        [0.02745098],\n",
       "        [0.02745098]],\n",
       "\n",
       "       [[0.90980392],\n",
       "        [0.90980392],\n",
       "        [0.89411765],\n",
       "        ...,\n",
       "        [0.0627451 ],\n",
       "        [0.0745098 ],\n",
       "        [0.07058824]],\n",
       "\n",
       "       ...,\n",
       "\n",
       "       [[0.51372549],\n",
       "        [0.49411765],\n",
       "        [0.23921569],\n",
       "        ...,\n",
       "        [0.00392157],\n",
       "        [0.00784314],\n",
       "        [0.08627451]],\n",
       "\n",
       "       [[0.49411765],\n",
       "        [0.49411765],\n",
       "        [0.09411765],\n",
       "        ...,\n",
       "        [0.1254902 ],\n",
       "        [0.34509804],\n",
       "        [0.00784314]],\n",
       "\n",
       "       [[0.50196078],\n",
       "        [0.50980392],\n",
       "        [0.08627451],\n",
       "        ...,\n",
       "        [0.29803922],\n",
       "        [0.36078431],\n",
       "        [0.23921569]]])"
      ]
     },
     "execution_count": 28,
     "metadata": {},
     "output_type": "execute_result"
    }
   ],
   "source": [
    "sample.reshape(50,50,1)"
   ]
  },
  {
   "cell_type": "code",
   "execution_count": 50,
   "id": "cd303d30",
   "metadata": {},
   "outputs": [
    {
     "name": "stdout",
     "output_type": "stream",
     "text": [
      "1/1 [==============================] - 0s 25ms/step\n",
      "[[0.9995797]]\n"
     ]
    }
   ],
   "source": [
    "predictions = model.predict(np.array([X[0]]))\n",
    "print(predictions)"
   ]
  },
  {
   "cell_type": "code",
   "execution_count": 51,
   "id": "d2693a38",
   "metadata": {},
   "outputs": [
    {
     "data": {
      "text/plain": [
       "1"
      ]
     },
     "execution_count": 51,
     "metadata": {},
     "output_type": "execute_result"
    }
   ],
   "source": [
    "int(tf.round(predictions))"
   ]
  },
  {
   "cell_type": "code",
   "execution_count": 32,
   "id": "ca3a04db",
   "metadata": {},
   "outputs": [
    {
     "data": {
      "text/plain": [
       "1"
      ]
     },
     "execution_count": 32,
     "metadata": {},
     "output_type": "execute_result"
    }
   ],
   "source": [
    "y[0]"
   ]
  },
  {
   "cell_type": "code",
   "execution_count": 68,
   "id": "64876ff3",
   "metadata": {},
   "outputs": [],
   "source": [
    "def cat_or_dog(img_path):\n",
    "    img_array = cv2.imread(img_path,cv2.IMREAD_GRAYSCALE)\n",
    "    new_array = cv2.resize(img_array,(50,50))\n",
    "    \n",
    "    model = tf.keras.models.load_model(\"dog_v_cat_model.h5\")\n",
    "    prediction = float(model.predict(np.array([new_array])))\n",
    "    print(prediction)\n",
    "    if prediction<0.5:\n",
    "        print(\"Probably a Dog\")\n",
    "    else:\n",
    "        print(\"Probably a Cat\")"
   ]
  },
  {
   "cell_type": "code",
   "execution_count": 65,
   "id": "6780092c",
   "metadata": {},
   "outputs": [
    {
     "name": "stdout",
     "output_type": "stream",
     "text": [
      "1/1 [==============================] - 0s 97ms/step\n",
      "Probably a Dog\n"
     ]
    }
   ],
   "source": [
    "cat_or_dog(\"C:\\\\Users\\\\adity\\\\Desktop\\\\DS\\\\CAT _V_DOG\\\\PetImages\\\\Dog\\\\455.jpg\")\n",
    "# \"C:\\Users\\adity\\Desktop\\DS\\CAT _V_DOG\\PetImages\\Cat\\53.jpg\""
   ]
  },
  {
   "cell_type": "code",
   "execution_count": 71,
   "id": "b8289405",
   "metadata": {},
   "outputs": [
    {
     "name": "stdout",
     "output_type": "stream",
     "text": [
      "1/1 [==============================] - 0s 99ms/step\n",
      "1.0\n",
      "Probably a Cat\n"
     ]
    }
   ],
   "source": [
    "cat_or_dog(\"C:\\\\Users\\\\adity\\\\Desktop\\\\Cat_test.jpg\")"
   ]
  },
  {
   "cell_type": "code",
   "execution_count": null,
   "id": "bf198c12",
   "metadata": {},
   "outputs": [],
   "source": []
  }
 ],
 "metadata": {
  "kernelspec": {
   "display_name": "base",
   "language": "python",
   "name": "python3"
  },
  "language_info": {
   "codemirror_mode": {
    "name": "ipython",
    "version": 3
   },
   "file_extension": ".py",
   "mimetype": "text/x-python",
   "name": "python",
   "nbconvert_exporter": "python",
   "pygments_lexer": "ipython3",
   "version": "3.8.8"
  },
  "vscode": {
   "interpreter": {
    "hash": "8891f3cfb547db503e78f25128202364d60f1c09259e140a1bd236c27b0b7a43"
   }
  }
 },
 "nbformat": 4,
 "nbformat_minor": 5
}
